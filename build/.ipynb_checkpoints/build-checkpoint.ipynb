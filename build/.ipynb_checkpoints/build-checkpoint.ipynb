{
 "cells": [
  {
   "cell_type": "code",
   "execution_count": null,
   "metadata": {},
   "outputs": [],
   "source": [
    "import os,json\n",
    "import markdown as md\n",
    "import codecs"
   ]
  },
  {
   "cell_type": "markdown",
   "metadata": {},
   "source": [
    "# Build lesson"
   ]
  },
  {
   "cell_type": "code",
   "execution_count": null,
   "metadata": {},
   "outputs": [],
   "source": [
    "def makehtml(path,nav=0,level=0,lessontype=\"terminal\"):\n",
    "    \n",
    "    templatefilepath='./template/{templatefilename}.html'\n",
    "    templatefilepath=templatefilepath.replace('{templatefilename}',lessontype)\n",
    "    htmltemplatefile=open(templatefilepath,'r',encoding=\"utf-8\")\n",
    "    htmltemplate=htmltemplatefile.read()\n",
    "    htmltemplatefile.close()\n",
    "\n",
    "\n",
    "    if level!=0:\n",
    "        leftnavcontent=nav\n",
    "    else:\n",
    "        navfilefile=open(os.path.join(path,\"nav.html\"), mode=\"r\", encoding=\"utf-8\")\n",
    "        leftnavcontent=navfilefile.read()\n",
    "        navfilefile.close()\n",
    "    \n",
    "    \n",
    "    topheadertemplate=open('./template/topheader.html','r',encoding=\"utf-8\")\n",
    "    topheader=topheadertemplate.read()\n",
    "    \n",
    "    for root,dirs,files in os.walk(path):\n",
    "        for name in files:\n",
    "            abs_path=os.path.join(root,name)\n",
    "            print(abs_path)\n",
    "            (filename,extension)=os.path.splitext(name)\n",
    "            print(\"filename\",filename,\"   extension\",extension)\n",
    "            \n",
    "            if extension==\".md\":\n",
    "                md_file = codecs.open(abs_path, mode=\"r\", encoding=\"utf-8\")\n",
    "                md_htmlcontent = md.markdown(md_file.read(),extensions=['fenced_code','tables'])\n",
    "                md_file.close()\n",
    "                \n",
    "\n",
    "                html_filename=os.path.join(os.path.dirname(abs_path),filename+\".html\")\n",
    "                print(html_filename)\n",
    "                html_file = codecs.open(html_filename, mode=\"w\", encoding=\"utf-8\")\n",
    "                \n",
    "                \n",
    "                template=htmltemplate\n",
    "                title=md_htmlcontent.split('\\n')[0]\n",
    "                title=title.replace('<h1>','')\n",
    "                title=title.replace('</h1>','')\n",
    "                title=title+\" - FreeAIHub\"\n",
    "                template=template.replace('{title}',title)\n",
    "                template=template.replace('{leftnav}', leftnavcontent)\n",
    "                template=template.replace('{content}',md_htmlcontent)\n",
    "                template=template.replace('{topheader}',topheader)\n",
    "                html_file.write(template)\n",
    "                html_file.close()\n",
    "                \n",
    "        for name in dirs:\n",
    "            makehtml(os.path.join(root,name),nav=leftnavcontent,level=1)"
   ]
  },
  {
   "cell_type": "code",
   "execution_count": null,
   "metadata": {},
   "outputs": [],
   "source": [
    "news=['aboutus']\n",
    "terminal=['java','pyqt','turtle','php','jmeter','html','elasticsearch','hive','hbase','redis','scala','c','spark','sqlite','tornado',\\\n",
    "         'vim','go','git','flask','cpp','django','postgresql','ds-in-c','neo4j','ds-in-python','lua','hadoop','mysql','mongodb','nginx','shell',\\\n",
    "         'nodejs','linux','jupyter']\n",
    "cell_python=['d2l-mxnet','d2l-pyroch','pandas','numpy','keras','ml','seaborn','scipy','sklearn','python']\n",
    "cell_ir=['r']\n",
    "cell_julia=['julia']\n",
    "vm=['docker']"
   ]
  },
  {
   "cell_type": "code",
   "execution_count": null,
   "metadata": {},
   "outputs": [],
   "source": [
    "# for item in news:\n",
    "#     makehtml('../'+item,lessontype=\"news\")\n",
    "    \n",
    "for item in terminal:\n",
    "    makehtml('../'+item,lessontype=\"terminal\")\n",
    "    \n",
    "# for item in cell_python:\n",
    "#     makehtml('../'+item,lessontype=\"cell_python\")\n",
    "\n",
    "# for item in cell_ir:\n",
    "#     makehtml('../'+item,lessontype=\"cell_ir\")\n",
    "\n",
    "# for item in cell_julia:\n",
    "#     makehtml('../'+item,lessontype=\"cell_julia\")\n",
    "    \n",
    "    \n",
    "# for item in vm:\n",
    "#     makehtml('../'+item,lessontype=\"vm\")"
   ]
  },
  {
   "cell_type": "markdown",
   "metadata": {},
   "source": [
    "# build index"
   ]
  },
  {
   "cell_type": "code",
   "execution_count": 13,
   "metadata": {},
   "outputs": [],
   "source": [
    "indexjson=json.loads(open('./template/index.json',encoding='utf-8').read())"
   ]
  },
  {
   "cell_type": "code",
   "execution_count": 16,
   "metadata": {},
   "outputs": [],
   "source": [
    "lessontypehtmltemplate='''\n",
    "            <div class=\"row clearfix\">\n",
    "                <div class=\"index-title\"><h4>{name}</h4></div>\n",
    "                <!--Service Style Three-->\n",
    "'''\n",
    "lessontypehtmltemplateend='''\n",
    "            </div>\n",
    "'''\n",
    "\n",
    "lessonhtmltemplate='''\n",
    "                    <div class=\"service-style-three col-md-4 col-sm-6 col-xs-12\">\n",
    "                        <div class=\"inner-box\">\n",
    "                            <div class=\"icon\"><figure class=\"image\"><img src=\"{img}\" alt=\"{name}\"></figure></div>\n",
    "                            <h3><a href=\"{link}\">{name}</a></h3>\n",
    "                            <div class=\"text\">{des}</div>\n",
    "                        </div>\n",
    "                    </div>\n",
    "'''"
   ]
  },
  {
   "cell_type": "code",
   "execution_count": 17,
   "metadata": {},
   "outputs": [],
   "source": [
    "final=''\n",
    "courses=indexjson['Course']['CourseList']\n",
    "for coursetype in courses:\n",
    "    final+=lessontypehtmltemplate.replace('{name}',courses[coursetype]['name'])\n",
    "    for item in courses[coursetype]['lessons']:\n",
    "#         print(item)\n",
    "        temp=lessonhtmltemplate.replace('{link}',item['link'])\n",
    "        temp=temp.replace('{name}',item['name'])\n",
    "        temp=temp.replace('{des}',item['des'])\n",
    "        temp=temp.replace('{img}',item['img'])\n",
    "        final+=temp\n",
    "        temp=''\n",
    "    final+=lessontypehtmltemplateend"
   ]
  },
  {
   "cell_type": "code",
   "execution_count": 18,
   "metadata": {},
   "outputs": [],
   "source": [
    "index_file = codecs.open(\"../index.html\", mode=\"w\", encoding=\"utf-8\")\n",
    "index_template = codecs.open(\"./template/index.template\", mode=\"r\", encoding=\"utf-8\").read()\n",
    "\n",
    "index_template=index_template.replace('{lessonlists}',final)\n",
    "index_file.write(index_template)"
   ]
  },
  {
   "cell_type": "code",
   "execution_count": null,
   "metadata": {},
   "outputs": [],
   "source": []
  }
 ],
 "metadata": {
  "kernelspec": {
   "display_name": "Python 3",
   "language": "python",
   "name": "python3"
  },
  "language_info": {
   "codemirror_mode": {
    "name": "ipython",
    "version": 3
   },
   "file_extension": ".py",
   "mimetype": "text/x-python",
   "name": "python",
   "nbconvert_exporter": "python",
   "pygments_lexer": "ipython3",
   "version": "3.7.0"
  }
 },
 "nbformat": 4,
 "nbformat_minor": 2
}
